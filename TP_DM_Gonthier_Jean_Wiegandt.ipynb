{
 "cells": [
  {
   "cell_type": "markdown",
   "metadata": {},
   "source": [
    "<center><h1> TP1 </h1></center>"
   ]
  },
  {
   "cell_type": "markdown",
   "metadata": {},
   "source": [
    "<br>\n",
    "<h4><b>1 File Format </b></h4>"
   ]
  },
  {
   "cell_type": "markdown",
   "metadata": {},
   "source": [
    "<b> Question 1: </b>"
   ]
  },
  {
   "cell_type": "code",
   "execution_count": 1,
   "metadata": {},
   "outputs": [],
   "source": [
    "from scipy.io import arff\n",
    "import pandas as pd\n",
    "import seaborn as sns\n",
    "import matplotlib.pyplot as plt\n",
    "import numpy as np\n",
    "from sklearn.decomposition import PCA \n",
    "import matplotlib.patches as mpatches"
   ]
  },
  {
   "cell_type": "code",
   "execution_count": 2,
   "metadata": {},
   "outputs": [
    {
     "data": {
      "text/html": [
       "<div>\n",
       "<style scoped>\n",
       "    .dataframe tbody tr th:only-of-type {\n",
       "        vertical-align: middle;\n",
       "    }\n",
       "\n",
       "    .dataframe tbody tr th {\n",
       "        vertical-align: top;\n",
       "    }\n",
       "\n",
       "    .dataframe thead th {\n",
       "        text-align: right;\n",
       "    }\n",
       "</style>\n",
       "<table border=\"1\" class=\"dataframe\">\n",
       "  <thead>\n",
       "    <tr style=\"text-align: right;\">\n",
       "      <th></th>\n",
       "      <th>outlook</th>\n",
       "      <th>temperature</th>\n",
       "      <th>humidity</th>\n",
       "      <th>windy</th>\n",
       "      <th>play</th>\n",
       "    </tr>\n",
       "  </thead>\n",
       "  <tbody>\n",
       "    <tr>\n",
       "      <th>0</th>\n",
       "      <td>b'sunny'</td>\n",
       "      <td>b'hot'</td>\n",
       "      <td>b'high'</td>\n",
       "      <td>b'FALSE'</td>\n",
       "      <td>b'no'</td>\n",
       "    </tr>\n",
       "    <tr>\n",
       "      <th>1</th>\n",
       "      <td>b'sunny'</td>\n",
       "      <td>b'hot'</td>\n",
       "      <td>b'high'</td>\n",
       "      <td>b'TRUE'</td>\n",
       "      <td>b'no'</td>\n",
       "    </tr>\n",
       "    <tr>\n",
       "      <th>2</th>\n",
       "      <td>b'overcast'</td>\n",
       "      <td>b'hot'</td>\n",
       "      <td>b'high'</td>\n",
       "      <td>b'FALSE'</td>\n",
       "      <td>b'yes'</td>\n",
       "    </tr>\n",
       "    <tr>\n",
       "      <th>3</th>\n",
       "      <td>b'rainy'</td>\n",
       "      <td>b'mild'</td>\n",
       "      <td>b'high'</td>\n",
       "      <td>b'FALSE'</td>\n",
       "      <td>b'yes'</td>\n",
       "    </tr>\n",
       "    <tr>\n",
       "      <th>4</th>\n",
       "      <td>b'rainy'</td>\n",
       "      <td>b'cool'</td>\n",
       "      <td>b'normal'</td>\n",
       "      <td>b'FALSE'</td>\n",
       "      <td>b'yes'</td>\n",
       "    </tr>\n",
       "  </tbody>\n",
       "</table>\n",
       "</div>"
      ],
      "text/plain": [
       "       outlook temperature   humidity     windy    play\n",
       "0     b'sunny'      b'hot'    b'high'  b'FALSE'   b'no'\n",
       "1     b'sunny'      b'hot'    b'high'   b'TRUE'   b'no'\n",
       "2  b'overcast'      b'hot'    b'high'  b'FALSE'  b'yes'\n",
       "3     b'rainy'     b'mild'    b'high'  b'FALSE'  b'yes'\n",
       "4     b'rainy'     b'cool'  b'normal'  b'FALSE'  b'yes'"
      ]
     },
     "execution_count": 2,
     "metadata": {},
     "output_type": "execute_result"
    }
   ],
   "source": [
    "data = arff.loadarff('/Users/lucas/Desktop/Polytech/IG4/S7/data_mining/weather.nominal.arff')\n",
    "df = pd.DataFrame(data[0])\n",
    "df.head()"
   ]
  },
  {
   "cell_type": "markdown",
   "metadata": {},
   "source": [
    "<br>\n",
    "<b> Question 2:</b>"
   ]
  },
  {
   "cell_type": "code",
   "execution_count": 3,
   "metadata": {},
   "outputs": [
    {
     "data": {
      "text/plain": [
       "Index(['outlook', 'temperature', 'humidity', 'windy', 'play'], dtype='object')"
      ]
     },
     "execution_count": 3,
     "metadata": {},
     "output_type": "execute_result"
    }
   ],
   "source": [
    "df.columns"
   ]
  },
  {
   "cell_type": "markdown",
   "metadata": {},
   "source": [
    "On peut voir qu'il y a 5 attributs : outlook, temperature, humidity, windy, play."
   ]
  },
  {
   "cell_type": "code",
   "execution_count": 4,
   "metadata": {},
   "outputs": [
    {
     "name": "stdout",
     "output_type": "stream",
     "text": [
      "voici les valeurs possibles et leur occurence pour l'attribut  outlook\n",
      "b'rainy'       5\n",
      "b'sunny'       5\n",
      "b'overcast'    4\n",
      "Name: outlook, dtype: int64\n",
      "--------------------\n",
      "voici les valeurs possibles et leur occurence pour l'attribut  temperature\n",
      "b'mild'    6\n",
      "b'cool'    4\n",
      "b'hot'     4\n",
      "Name: temperature, dtype: int64\n",
      "--------------------\n",
      "voici les valeurs possibles et leur occurence pour l'attribut  humidity\n",
      "b'normal'    7\n",
      "b'high'      7\n",
      "Name: humidity, dtype: int64\n",
      "--------------------\n",
      "voici les valeurs possibles et leur occurence pour l'attribut  windy\n",
      "b'FALSE'    8\n",
      "b'TRUE'     6\n",
      "Name: windy, dtype: int64\n",
      "--------------------\n",
      "voici les valeurs possibles et leur occurence pour l'attribut  play\n",
      "b'yes'    9\n",
      "b'no'     5\n",
      "Name: play, dtype: int64\n",
      "--------------------\n"
     ]
    }
   ],
   "source": [
    "for column in df.columns:\n",
    "    print(\"voici les valeurs possibles et leur occurence pour l'attribut \", column)\n",
    "    print(df[column].value_counts())\n",
    "    print('-'*20)"
   ]
  },
  {
   "cell_type": "markdown",
   "metadata": {},
   "source": [
    "<br>\n",
    "<b> Question 3:</b>\n"
   ]
  },
  {
   "cell_type": "code",
   "execution_count": 5,
   "metadata": {},
   "outputs": [],
   "source": [
    "#replace each non numerical value per numerical value."
   ]
  },
  {
   "cell_type": "markdown",
   "metadata": {},
   "source": [
    "<br>\n",
    "<b>Question 4:</b>"
   ]
  },
  {
   "cell_type": "code",
   "execution_count": 6,
   "metadata": {},
   "outputs": [
    {
     "data": {
      "text/html": [
       "<div>\n",
       "<style scoped>\n",
       "    .dataframe tbody tr th:only-of-type {\n",
       "        vertical-align: middle;\n",
       "    }\n",
       "\n",
       "    .dataframe tbody tr th {\n",
       "        vertical-align: top;\n",
       "    }\n",
       "\n",
       "    .dataframe thead th {\n",
       "        text-align: right;\n",
       "    }\n",
       "</style>\n",
       "<table border=\"1\" class=\"dataframe\">\n",
       "  <thead>\n",
       "    <tr style=\"text-align: right;\">\n",
       "      <th></th>\n",
       "      <th>sepallength</th>\n",
       "      <th>sepalwidth</th>\n",
       "      <th>petallength</th>\n",
       "      <th>petalwidth</th>\n",
       "      <th>class</th>\n",
       "    </tr>\n",
       "  </thead>\n",
       "  <tbody>\n",
       "    <tr>\n",
       "      <th>0</th>\n",
       "      <td>5.1</td>\n",
       "      <td>3.5</td>\n",
       "      <td>1.4</td>\n",
       "      <td>0.2</td>\n",
       "      <td>b'Iris-setosa'</td>\n",
       "    </tr>\n",
       "    <tr>\n",
       "      <th>1</th>\n",
       "      <td>4.9</td>\n",
       "      <td>3.0</td>\n",
       "      <td>1.4</td>\n",
       "      <td>0.2</td>\n",
       "      <td>b'Iris-setosa'</td>\n",
       "    </tr>\n",
       "    <tr>\n",
       "      <th>2</th>\n",
       "      <td>4.7</td>\n",
       "      <td>3.2</td>\n",
       "      <td>1.3</td>\n",
       "      <td>0.2</td>\n",
       "      <td>b'Iris-setosa'</td>\n",
       "    </tr>\n",
       "    <tr>\n",
       "      <th>3</th>\n",
       "      <td>4.6</td>\n",
       "      <td>3.1</td>\n",
       "      <td>1.5</td>\n",
       "      <td>0.2</td>\n",
       "      <td>b'Iris-setosa'</td>\n",
       "    </tr>\n",
       "    <tr>\n",
       "      <th>4</th>\n",
       "      <td>5.0</td>\n",
       "      <td>3.6</td>\n",
       "      <td>1.4</td>\n",
       "      <td>0.2</td>\n",
       "      <td>b'Iris-setosa'</td>\n",
       "    </tr>\n",
       "  </tbody>\n",
       "</table>\n",
       "</div>"
      ],
      "text/plain": [
       "   sepallength  sepalwidth  petallength  petalwidth           class\n",
       "0          5.1         3.5          1.4         0.2  b'Iris-setosa'\n",
       "1          4.9         3.0          1.4         0.2  b'Iris-setosa'\n",
       "2          4.7         3.2          1.3         0.2  b'Iris-setosa'\n",
       "3          4.6         3.1          1.5         0.2  b'Iris-setosa'\n",
       "4          5.0         3.6          1.4         0.2  b'Iris-setosa'"
      ]
     },
     "execution_count": 6,
     "metadata": {},
     "output_type": "execute_result"
    }
   ],
   "source": [
    "data_iris = arff.loadarff('/Users/lucas/Desktop/Polytech/IG4/S7/data_mining/iris.arff')\n",
    "df_iris = pd.DataFrame(data_iris[0])\n",
    "df_iris.head()"
   ]
  },
  {
   "cell_type": "code",
   "execution_count": 7,
   "metadata": {},
   "outputs": [],
   "source": [
    "X_petal = df_iris.drop(['class','sepallength','sepalwidth'], axis=1)\n",
    "X_sepal = df_iris.drop(['class','petallength','petalwidth'], axis=1)\n",
    "y = df_iris['class']\n"
   ]
  },
  {
   "cell_type": "code",
   "execution_count": 8,
   "metadata": {},
   "outputs": [
    {
     "data": {
      "text/plain": [
       "b'Iris-virginica'     50\n",
       "b'Iris-versicolor'    50\n",
       "b'Iris-setosa'        50\n",
       "Name: class, dtype: int64"
      ]
     },
     "execution_count": 8,
     "metadata": {},
     "output_type": "execute_result"
    }
   ],
   "source": [
    "df_iris['class'].value_counts()"
   ]
  },
  {
   "cell_type": "markdown",
   "metadata": {},
   "source": [
    "<b> Pour voir Les discriminations des attributs, une ACP est très utile.</b>\n",
    "- On peut voir que grâce aux <b>pétals</b>, des clusters qui sont bien délimités.\n",
    "- Pour les <b>sépals</b>, <b>Iris-setosa</b> forme un cluster à part entière, cependant, la délimitation des clusters correspondant à <b>Iris-versicolor</b> et <b>Iris-virginica</b> est assez flou."
   ]
  },
  {
   "cell_type": "code",
   "execution_count": 9,
   "metadata": {},
   "outputs": [
    {
     "data": {
      "image/png": "[encoded data removed]",
      "text/plain": [
       "<Figure size 1728x1440 with 2 Axes>"
      ]
     },
     "metadata": {
      "needs_background": "light"
     },
     "output_type": "display_data"
    }
   ],
   "source": [
    "f, (ax1,ax2) = plt.subplots(2, 1, figsize=(24,20))\n",
    "blue_patch = mpatches.Patch(color='blue', label='Iris-setosa')\n",
    "red_patch = mpatches.Patch(color='red', label='Iris-versicolor')\n",
    "green_patch = mpatches.Patch(color='green', label='Iris-virginica')\n",
    "\n",
    "\n",
    "#ACP PETAL\n",
    "X_pca_petal = PCA(n_components=2, random_state=42).fit_transform(X_petal.values)\n",
    "\n",
    "ax1.scatter(X_pca_petal[y==b'Iris-setosa',0], X_pca_petal[y==b'Iris-setosa',1], c='blue',cmap='coolwarm', label='Iris-setosa', linewidths=2)\n",
    "ax1.scatter(X_pca_petal[y==b'Iris-versicolor',0], X_pca_petal[y==b'Iris-versicolor',1], c='red',cmap='coolwarm',label='Iris-versicolor', linewidths=2)\n",
    "ax1.scatter(X_pca_petal[y==b'Iris-virginica',0], X_pca_petal[y==b'Iris-virginica',1], c='green', cmap='coolwarm',label='Iris-virginica', linewidths=2)\n",
    "ax1.set_title('PCA on PETAL', fontsize=14)\n",
    "ax1.legend(handles=[blue_patch, red_patch, green_patch])\n",
    "\n",
    "#ACP SEPAL\n",
    "\n",
    "X_pca_sepal = PCA(n_components=2, random_state=42).fit_transform(X_sepal.values)\n",
    "\n",
    "ax2.scatter(X_pca_sepal[y==b'Iris-setosa',0], X_pca_sepal[y==b'Iris-setosa',1], c='blue',cmap='coolwarm', label='Iris-setosa', linewidths=2)\n",
    "ax2.scatter(X_pca_sepal[y==b'Iris-versicolor',0], X_pca_sepal[y==b'Iris-versicolor',1], c='red',cmap='coolwarm',label='Iris-versicolor', linewidths=2)\n",
    "ax2.scatter(X_pca_sepal[y==b'Iris-virginica',0], X_pca_sepal[y==b'Iris-virginica',1], c='green', cmap='coolwarm',label='Iris-virginica', linewidths=2)\n",
    "ax2.set_title('PCA on SEPAL', fontsize=14)\n",
    "ax2.legend(handles=[blue_patch, red_patch, green_patch])\n",
    "\n",
    "\n",
    "plt.show()\n",
    "\n",
    "\n"
   ]
  },
  {
   "cell_type": "markdown",
   "metadata": {},
   "source": [
    "<br>\n",
    "<b>Question 6: </b>"
   ]
  },
  {
   "cell_type": "code",
   "execution_count": 10,
   "metadata": {},
   "outputs": [
    {
     "data": {
      "text/html": [
       "<div>\n",
       "<style scoped>\n",
       "    .dataframe tbody tr th:only-of-type {\n",
       "        vertical-align: middle;\n",
       "    }\n",
       "\n",
       "    .dataframe tbody tr th {\n",
       "        vertical-align: top;\n",
       "    }\n",
       "\n",
       "    .dataframe thead th {\n",
       "        text-align: right;\n",
       "    }\n",
       "</style>\n",
       "<table border=\"1\" class=\"dataframe\">\n",
       "  <thead>\n",
       "    <tr style=\"text-align: right;\">\n",
       "      <th></th>\n",
       "      <th>outlook</th>\n",
       "      <th>temperature</th>\n",
       "      <th>humidity</th>\n",
       "      <th>windy</th>\n",
       "      <th>play</th>\n",
       "    </tr>\n",
       "  </thead>\n",
       "  <tbody>\n",
       "    <tr>\n",
       "      <th>0</th>\n",
       "      <td>b'sunny'</td>\n",
       "      <td>85.0</td>\n",
       "      <td>85.0</td>\n",
       "      <td>b'FALSE'</td>\n",
       "      <td>b'no'</td>\n",
       "    </tr>\n",
       "    <tr>\n",
       "      <th>1</th>\n",
       "      <td>b'sunny'</td>\n",
       "      <td>80.0</td>\n",
       "      <td>90.0</td>\n",
       "      <td>b'TRUE'</td>\n",
       "      <td>b'no'</td>\n",
       "    </tr>\n",
       "    <tr>\n",
       "      <th>2</th>\n",
       "      <td>b'overcast'</td>\n",
       "      <td>83.0</td>\n",
       "      <td>86.0</td>\n",
       "      <td>b'FALSE'</td>\n",
       "      <td>b'yes'</td>\n",
       "    </tr>\n",
       "    <tr>\n",
       "      <th>3</th>\n",
       "      <td>b'rainy'</td>\n",
       "      <td>70.0</td>\n",
       "      <td>96.0</td>\n",
       "      <td>b'FALSE'</td>\n",
       "      <td>b'yes'</td>\n",
       "    </tr>\n",
       "    <tr>\n",
       "      <th>4</th>\n",
       "      <td>b'rainy'</td>\n",
       "      <td>68.0</td>\n",
       "      <td>80.0</td>\n",
       "      <td>b'FALSE'</td>\n",
       "      <td>b'yes'</td>\n",
       "    </tr>\n",
       "  </tbody>\n",
       "</table>\n",
       "</div>"
      ],
      "text/plain": [
       "       outlook  temperature  humidity     windy    play\n",
       "0     b'sunny'         85.0      85.0  b'FALSE'   b'no'\n",
       "1     b'sunny'         80.0      90.0   b'TRUE'   b'no'\n",
       "2  b'overcast'         83.0      86.0  b'FALSE'  b'yes'\n",
       "3     b'rainy'         70.0      96.0  b'FALSE'  b'yes'\n",
       "4     b'rainy'         68.0      80.0  b'FALSE'  b'yes'"
      ]
     },
     "execution_count": 10,
     "metadata": {},
     "output_type": "execute_result"
    }
   ],
   "source": [
    "data_weather = arff.loadarff('/Users/lucas/Desktop/Polytech/IG4/S7/data_mining/weather.numeric.arff')\n",
    "df_weather = pd.DataFrame(data_weather[0])\n",
    "df_weather.head()"
   ]
  },
  {
   "cell_type": "markdown",
   "metadata": {},
   "source": [
    "<br>\n",
    "<h4><b>2 Decision Trees </b></h4>"
   ]
  },
  {
   "cell_type": "markdown",
   "metadata": {},
   "source": [
    "<h4> <b>2.1 Running Decision Trees</b></h4>"
   ]
  },
  {
   "cell_type": "markdown",
   "metadata": {},
   "source": [
    "<b> Question a: </b>"
   ]
  },
  {
   "cell_type": "code",
   "execution_count": 11,
   "metadata": {},
   "outputs": [],
   "source": [
    "from sklearn.model_selection import train_test_split\n",
    "from sklearn.tree import DecisionTreeClassifier\n",
    "from sklearn.neighbors import KNeighborsClassifier\n",
    "from sklearn.ensemble import RandomForestClassifier\n",
    "from sklearn.linear_model import LogisticRegression\n",
    "\n",
    "from sklearn.metrics import precision_score, recall_score, f1_score, roc_auc_score, accuracy_score, confusion_matrix\n",
    "from sklearn.model_selection import KFold, StratifiedKFold, cross_val_predict"
   ]
  },
  {
   "cell_type": "code",
   "execution_count": 12,
   "metadata": {},
   "outputs": [],
   "source": [
    "df_titanic =  pd.read_csv('/Users/lucas/Desktop/Polytech/IG4/S7/data_mining/titanic.csv')"
   ]
  },
  {
   "cell_type": "code",
   "execution_count": 13,
   "metadata": {},
   "outputs": [
    {
     "name": "stdout",
     "output_type": "stream",
     "text": [
      "voici les valeurs possibles et leur occurence pour l'attribut  CLASS\n",
      "crew    885\n",
      "3rd     706\n",
      "1st     325\n",
      "2nd     285\n",
      "Name: CLASS, dtype: int64\n",
      "--------------------\n",
      "voici les valeurs possibles et leur occurence pour l'attribut  AGE\n",
      "adult    2092\n",
      "child     109\n",
      "Name: AGE, dtype: int64\n",
      "--------------------\n",
      "voici les valeurs possibles et leur occurence pour l'attribut  SEX\n",
      "male      1731\n",
      "female     470\n",
      "Name: SEX, dtype: int64\n",
      "--------------------\n",
      "voici les valeurs possibles et leur occurence pour l'attribut  SURVIVED\n",
      "no     1490\n",
      "yes     711\n",
      "Name: SURVIVED, dtype: int64\n",
      "--------------------\n"
     ]
    }
   ],
   "source": [
    "for column in df_titanic.columns:\n",
    "    print(\"voici les valeurs possibles et leur occurence pour l'attribut \", column)\n",
    "    print(df_titanic[column].value_counts())\n",
    "    print('-'*20)"
   ]
  },
  {
   "cell_type": "code",
   "execution_count": 14,
   "metadata": {},
   "outputs": [],
   "source": [
    "def features_engineering(df):\n",
    "    \n",
    "    class_mapping = {'1st': 1, '2nd': 2, '3rd': 3, 'crew': 4}\n",
    "    sex_mapping = {'male':0,'female':1}\n",
    "    age_mapping = {'child':0,'adult':1}\n",
    "    surv_mapping = {'no':0,'yes':1}\n",
    "    \n",
    "    df = df.replace({'CLASS': class_mapping, 'SEX': sex_mapping, 'AGE': age_mapping, 'SURVIVED': surv_mapping})\n",
    "    \n",
    "    return df"
   ]
  },
  {
   "cell_type": "code",
   "execution_count": 15,
   "metadata": {},
   "outputs": [
    {
     "data": {
      "text/html": [
       "<div>\n",
       "<style scoped>\n",
       "    .dataframe tbody tr th:only-of-type {\n",
       "        vertical-align: middle;\n",
       "    }\n",
       "\n",
       "    .dataframe tbody tr th {\n",
       "        vertical-align: top;\n",
       "    }\n",
       "\n",
       "    .dataframe thead th {\n",
       "        text-align: right;\n",
       "    }\n",
       "</style>\n",
       "<table border=\"1\" class=\"dataframe\">\n",
       "  <thead>\n",
       "    <tr style=\"text-align: right;\">\n",
       "      <th></th>\n",
       "      <th>CLASS</th>\n",
       "      <th>AGE</th>\n",
       "      <th>SEX</th>\n",
       "      <th>SURVIVED</th>\n",
       "    </tr>\n",
       "  </thead>\n",
       "  <tbody>\n",
       "    <tr>\n",
       "      <th>0</th>\n",
       "      <td>1</td>\n",
       "      <td>1</td>\n",
       "      <td>0</td>\n",
       "      <td>1</td>\n",
       "    </tr>\n",
       "    <tr>\n",
       "      <th>1</th>\n",
       "      <td>1</td>\n",
       "      <td>1</td>\n",
       "      <td>0</td>\n",
       "      <td>1</td>\n",
       "    </tr>\n",
       "    <tr>\n",
       "      <th>2</th>\n",
       "      <td>1</td>\n",
       "      <td>1</td>\n",
       "      <td>0</td>\n",
       "      <td>1</td>\n",
       "    </tr>\n",
       "    <tr>\n",
       "      <th>3</th>\n",
       "      <td>1</td>\n",
       "      <td>1</td>\n",
       "      <td>0</td>\n",
       "      <td>1</td>\n",
       "    </tr>\n",
       "    <tr>\n",
       "      <th>4</th>\n",
       "      <td>1</td>\n",
       "      <td>1</td>\n",
       "      <td>0</td>\n",
       "      <td>1</td>\n",
       "    </tr>\n",
       "    <tr>\n",
       "      <th>...</th>\n",
       "      <td>...</td>\n",
       "      <td>...</td>\n",
       "      <td>...</td>\n",
       "      <td>...</td>\n",
       "    </tr>\n",
       "    <tr>\n",
       "      <th>2196</th>\n",
       "      <td>4</td>\n",
       "      <td>1</td>\n",
       "      <td>1</td>\n",
       "      <td>1</td>\n",
       "    </tr>\n",
       "    <tr>\n",
       "      <th>2197</th>\n",
       "      <td>4</td>\n",
       "      <td>1</td>\n",
       "      <td>1</td>\n",
       "      <td>1</td>\n",
       "    </tr>\n",
       "    <tr>\n",
       "      <th>2198</th>\n",
       "      <td>4</td>\n",
       "      <td>1</td>\n",
       "      <td>1</td>\n",
       "      <td>0</td>\n",
       "    </tr>\n",
       "    <tr>\n",
       "      <th>2199</th>\n",
       "      <td>4</td>\n",
       "      <td>1</td>\n",
       "      <td>1</td>\n",
       "      <td>0</td>\n",
       "    </tr>\n",
       "    <tr>\n",
       "      <th>2200</th>\n",
       "      <td>4</td>\n",
       "      <td>1</td>\n",
       "      <td>1</td>\n",
       "      <td>0</td>\n",
       "    </tr>\n",
       "  </tbody>\n",
       "</table>\n",
       "<p>2201 rows × 4 columns</p>\n",
       "</div>"
      ],
      "text/plain": [
       "      CLASS  AGE  SEX  SURVIVED\n",
       "0         1    1    0         1\n",
       "1         1    1    0         1\n",
       "2         1    1    0         1\n",
       "3         1    1    0         1\n",
       "4         1    1    0         1\n",
       "...     ...  ...  ...       ...\n",
       "2196      4    1    1         1\n",
       "2197      4    1    1         1\n",
       "2198      4    1    1         0\n",
       "2199      4    1    1         0\n",
       "2200      4    1    1         0\n",
       "\n",
       "[2201 rows x 4 columns]"
      ]
     },
     "execution_count": 15,
     "metadata": {},
     "output_type": "execute_result"
    }
   ],
   "source": [
    "df_titanic = features_engineering(df_titanic)\n",
    "df_titanic"
   ]
  },
  {
   "cell_type": "markdown",
   "metadata": {},
   "source": [
    "<br>\n",
    "<b>Question b:</b>"
   ]
  },
  {
   "cell_type": "markdown",
   "metadata": {},
   "source": [
    "<b>On sépare l'ensemble en deux, données d'entrainement (80% des données) et données test (20%).</b>"
   ]
  },
  {
   "cell_type": "code",
   "execution_count": 16,
   "metadata": {},
   "outputs": [],
   "source": [
    "df_first_train, df_final_test = train_test_split(df_titanic,test_size=0.2, random_state=42)"
   ]
  },
  {
   "cell_type": "markdown",
   "metadata": {},
   "source": [
    "<br>\n",
    "<b>On sépare les données d'entraînement en deux, données qui vont entraîner le modèle (80% du premier train set) et données de validation (20%).</b>"
   ]
  },
  {
   "cell_type": "code",
   "execution_count": 17,
   "metadata": {},
   "outputs": [],
   "source": [
    "df_train, df_test = train_test_split(df_first_train,test_size=0.2, random_state=42)"
   ]
  },
  {
   "cell_type": "code",
   "execution_count": 18,
   "metadata": {},
   "outputs": [],
   "source": [
    "X_train = df_train.drop('SURVIVED', axis=1)\n",
    "y_train = df_train['SURVIVED']\n",
    "\n",
    "X_test = df_test.drop('SURVIVED', axis=1)\n",
    "y_test = df_test['SURVIVED']"
   ]
  },
  {
   "cell_type": "markdown",
   "metadata": {},
   "source": [
    "  "
   ]
  },
  {
   "cell_type": "markdown",
   "metadata": {},
   "source": [
    "  "
   ]
  },
  {
   "cell_type": "markdown",
   "metadata": {},
   "source": [
    "  "
   ]
  },
  {
   "cell_type": "markdown",
   "metadata": {},
   "source": [
    "  "
   ]
  },
  {
   "cell_type": "markdown",
   "metadata": {},
   "source": [
    "  \n"
   ]
  },
  {
   "cell_type": "markdown",
   "metadata": {},
   "source": [
    "<h4> <b> 2.2 premières prédictions et evaluation du modèle.</b>"
   ]
  },
  {
   "cell_type": "code",
   "execution_count": 19,
   "metadata": {},
   "outputs": [],
   "source": [
    "from sklearn.model_selection import cross_val_score"
   ]
  },
  {
   "cell_type": "code",
   "execution_count": 20,
   "metadata": {},
   "outputs": [],
   "source": [
    "#methode pour basique accuracy de classifier\n",
    "def accuracy_classifier(classifiers, X_train, y_train, X_test, y_test):\n",
    "    plt.style.use('seaborn')\n",
    "    predictions = {}\n",
    "    \n",
    "    for key, classifier in classifiers.items():\n",
    "        print(key)\n",
    "        if(key == \"KNearest\"):#On va tester plusieurs k et garder le meilleur.\n",
    "            acc_k = pd.Series([],dtype=pd.StringDtype())\n",
    "            max_accuracy = 0\n",
    "            max_k = 0\n",
    "            for i in range(1, 30):\n",
    "                \n",
    "                classifiers[key] = KNeighborsClassifier(n_neighbors=i)\n",
    "                classifiers[key].fit(X_train, y_train.values)\n",
    "                \n",
    "                pred = classifiers[key].predict(X_test)\n",
    "                k_score = accuracy_score(pred, y_test)\n",
    "                \n",
    "                acc_k = acc_k.append(pd.Series(k_score))\n",
    "                if(max_accuracy < k_score):\n",
    "                    max_accuracy = k_score\n",
    "                    max_k = i\n",
    "                    \n",
    "            #On affiche\n",
    "            \n",
    "            x=range(0,30)\n",
    "            plt.plot(range(1,30), acc_k)\n",
    "            fig=plt.gcf()\n",
    "            plt.xticks(x)\n",
    "            fig.set_size_inches(12,6)\n",
    "            plt.show()\n",
    "            \n",
    "            classifiers[key] = KNeighborsClassifier(n_neighbors=max_k)\n",
    "            predictions[key] = max_accuracy\n",
    "            print('kNeighbors', max_k)  \n",
    "            \n",
    "        else:\n",
    "            classifier.fit(X_train, y_train.values)\n",
    "            pred = classifier.predict(X_test)\n",
    "            predictions[key] = accuracy_score(pred, y_test)\n",
    "            \n",
    "            \n",
    "        print('accuracy:', predictions[key])\n",
    "        print('-'*20)\n",
    "        \n",
    "        \n",
    "    return(predictions)\n",
    "\n",
    "#methode pour matrice de confusion\n",
    "def confusion_accuracy(classifiers, X, y):\n",
    " \n",
    "    precisions = {}\n",
    "    recalls = {}\n",
    "    f1s = {}\n",
    "    matrix = {}\n",
    "    \n",
    "    index = 0\n",
    "    for key, classifier in classifiers.items():\n",
    "        print(key)\n",
    "        y_predict = cross_val_predict(classifier, X, y.values, cv=3)\n",
    "        \n",
    "        precisions[key] = precision_score(y, y_predict)\n",
    "        recalls[key] = recall_score(y, y_predict)\n",
    "        f1s[key] = f1_score(y, y_predict)\n",
    "        matrix[key] = confusion_matrix(y, y_predict)\n",
    "        \n",
    "        print('prec score:', precisions[key])\n",
    "        print('recall score:', recalls[key])\n",
    "        print('f1 score:', f1s[key])\n",
    "        \n",
    "        sns.heatmap(matrix[key],annot=True,fmt='2.0f')\n",
    "       \n",
    "        plt.show()\n",
    "        print('-'*20)\n",
    "        index +=1\n",
    "    return(precisions, recalls, f1s)\n",
    "\n",
    "\n",
    "#methode pour la cross validation\n",
    "def cross_val_classifiers(kfold, X, y, classifiers):\n",
    "    mean_cross_val = {}\n",
    "    std_cross_val = {}\n",
    "    \n",
    "    for key, classifier in classifiers.items():\n",
    "        cross_scores = cross_val_score(classifier, X, y,scoring='accuracy', cv = kfold)\n",
    "    \n",
    "        mean_cross_val[key] = cross_scores.mean()\n",
    "        std_cross_val[key] = cross_scores.std()\n",
    "    \n",
    "    return(mean_cross_val, std_cross_val)"
   ]
  },
  {
   "cell_type": "code",
   "execution_count": 34,
   "metadata": {},
   "outputs": [
    {
     "name": "stdout",
     "output_type": "stream",
     "text": [
      "0.7954545454545454\n"
     ]
    }
   ],
   "source": []
  },
  {
   "cell_type": "code",
   "execution_count": null,
   "metadata": {},
   "outputs": [],
   "source": []
  },
  {
   "cell_type": "code",
   "execution_count": null,
   "metadata": {},
   "outputs": [],
   "source": []
  },
  {
   "cell_type": "markdown",
   "metadata": {},
   "source": [
    "<br>\n",
    "<b>Simple prédiction du sur le validation test</b>"
   ]
  },
  {
   "cell_type": "code",
   "execution_count": 24,
   "metadata": {},
   "outputs": [
    {
     "name": "stdout",
     "output_type": "stream",
     "text": [
      "dtc\n",
      "accuracy: 0.7954545454545454\n",
      "--------------------\n",
      "KNearest\n"
     ]
    },
    {
     "data": {
      "image/png": "[encoded data removed]",
      "text/plain": [
       "<Figure size 864x432 with 1 Axes>"
      ]
     },
     "metadata": {},
     "output_type": "display_data"
    },
    {
     "name": "stdout",
     "output_type": "stream",
     "text": [
      "kNeighbors 8\n",
      "accuracy: 0.7954545454545454\n",
      "--------------------\n",
      "LogisiticRegression\n",
      "accuracy: 0.7926136363636364\n",
      "--------------------\n",
      "{'dtc': 0.7954545454545454, 'KNearest': 0.7954545454545454, 'LogisiticRegression': 0.7926136363636364}\n"
     ]
    }
   ],
   "source": [
    "classifiers = {\"dtc\":DecisionTreeClassifier(), \"KNearest\":KNeighborsClassifier(),\n",
    "               \"LogisiticRegression\": LogisticRegression()   }\n",
    "\n",
    "predictions = accuracy_classifier(classifiers, X_train, y_train, X_test, y_test)\n",
    "print(predictions)"
   ]
  },
  {
   "cell_type": "markdown",
   "metadata": {},
   "source": [
    "<br>\n",
    "<b> Matrix de confusion, recall et precision pour assurer une bonne classification de chaque label.</b>"
   ]
  },
  {
   "cell_type": "code",
   "execution_count": 25,
   "metadata": {},
   "outputs": [
    {
     "name": "stdout",
     "output_type": "stream",
     "text": [
      "dtc\n",
      "prec score: 0.907608695652174\n",
      "recall score: 0.3761261261261261\n",
      "f1 score: 0.5318471337579619\n"
     ]
    },
    {
     "data": {
      "image/png": "[encoded data removed]",
      "text/plain": [
       "<Figure size 576x396 with 2 Axes>"
      ]
     },
     "metadata": {},
     "output_type": "display_data"
    },
    {
     "name": "stdout",
     "output_type": "stream",
     "text": [
      "--------------------\n",
      "KNearest\n",
      "prec score: 0.7567567567567568\n",
      "recall score: 0.3783783783783784\n",
      "f1 score: 0.5045045045045046\n"
     ]
    },
    {
     "data": {
      "image/png": "[encoded data removed]",
      "text/plain": [
       "<Figure size 576x396 with 2 Axes>"
      ]
     },
     "metadata": {},
     "output_type": "display_data"
    },
    {
     "name": "stdout",
     "output_type": "stream",
     "text": [
      "--------------------\n",
      "LogisiticRegression\n",
      "prec score: 0.7074829931972789\n",
      "recall score: 0.46846846846846846\n",
      "f1 score: 0.5636856368563685\n"
     ]
    },
    {
     "data": {
      "image/png": "[encoded data removed]",
      "text/plain": [
       "<Figure size 576x396 with 2 Axes>"
      ]
     },
     "metadata": {},
     "output_type": "display_data"
    },
    {
     "name": "stdout",
     "output_type": "stream",
     "text": [
      "--------------------\n"
     ]
    }
   ],
   "source": [
    "precisions, recalls, f1s = confusion_accuracy(classifiers, X_train, y_train)"
   ]
  },
  {
   "cell_type": "code",
   "execution_count": 26,
   "metadata": {},
   "outputs": [
    {
     "data": {
      "text/html": [
       "<div>\n",
       "<style scoped>\n",
       "    .dataframe tbody tr th:only-of-type {\n",
       "        vertical-align: middle;\n",
       "    }\n",
       "\n",
       "    .dataframe tbody tr th {\n",
       "        vertical-align: top;\n",
       "    }\n",
       "\n",
       "    .dataframe thead th {\n",
       "        text-align: right;\n",
       "    }\n",
       "</style>\n",
       "<table border=\"1\" class=\"dataframe\">\n",
       "  <thead>\n",
       "    <tr style=\"text-align: right;\">\n",
       "      <th></th>\n",
       "      <th>train_predictions</th>\n",
       "      <th>mean_cross_valid</th>\n",
       "      <th>std_cross_valid</th>\n",
       "    </tr>\n",
       "  </thead>\n",
       "  <tbody>\n",
       "    <tr>\n",
       "      <th>dtc</th>\n",
       "      <td>0.795455</td>\n",
       "      <td>0.791186</td>\n",
       "      <td>0.009777</td>\n",
       "    </tr>\n",
       "    <tr>\n",
       "      <th>KNearest</th>\n",
       "      <td>0.795455</td>\n",
       "      <td>0.786207</td>\n",
       "      <td>0.011143</td>\n",
       "    </tr>\n",
       "    <tr>\n",
       "      <th>LogisiticRegression</th>\n",
       "      <td>0.792614</td>\n",
       "      <td>0.774132</td>\n",
       "      <td>0.013095</td>\n",
       "    </tr>\n",
       "  </tbody>\n",
       "</table>\n",
       "</div>"
      ],
      "text/plain": [
       "                     train_predictions  mean_cross_valid  std_cross_valid\n",
       "dtc                           0.795455          0.791186         0.009777\n",
       "KNearest                      0.795455          0.786207         0.011143\n",
       "LogisiticRegression           0.792614          0.774132         0.013095"
      ]
     },
     "execution_count": 26,
     "metadata": {},
     "output_type": "execute_result"
    }
   ],
   "source": [
    "kfold = StratifiedKFold(n_splits=5)\n",
    "\n",
    "mean_accuracies, std_accuracies = cross_val_classifiers(kfold, X_train, y_train,classifiers )\n",
    "cross_validation = pd.DataFrame({'train_predictions':predictions,'mean_cross_valid':mean_accuracies,'std_cross_valid':std_accuracies}, index=classifiers.keys())\n",
    "cross_validation\n"
   ]
  },
  {
   "cell_type": "markdown",
   "metadata": {},
   "source": [
    "<br>\n",
    "<b> Fine tune model</b>"
   ]
  },
  {
   "cell_type": "code",
   "execution_count": 27,
   "metadata": {},
   "outputs": [],
   "source": [
    "from sklearn.model_selection import GridSearchCV\n",
    "classifiers = {\n",
    "    \"LogisticRegression\": LogisticRegression(),\n",
    "    \"DecisionTreeClassifier\": DecisionTreeClassifier(),\n",
    "    \"KNearest\": KNeighborsClassifier()\n",
    "    \n",
    "}\n",
    "\n",
    "params_classifiers = {\n",
    "     \"LogisticRegression\": [{'C': [0.001, 0.01, 0.1, 1, 10, 100, 1000]}],\n",
    "    \n",
    "    \"DecisionTreeClassifier\": [{'criterion':['gini','entropy'],'splitter':['best', 'random'],'max_depth':range(1,201),\n",
    "               'max_features':['auto','sqrt','log2']}],\n",
    "    \n",
    "    \"KNearest\": [{'n_neighbors':range(1,15),'weights':['uniform', 'distance'],'metric':['euclidean','manhattan','minkowski'] }]\n",
    "    \n",
    "}"
   ]
  },
  {
   "cell_type": "code",
   "execution_count": 28,
   "metadata": {},
   "outputs": [
    {
     "name": "stdout",
     "output_type": "stream",
     "text": [
      "LogisticRegression(C=1)\n",
      "DecisionTreeClassifier(max_depth=4, max_features='sqrt')\n",
      "KNeighborsClassifier(metric='euclidean', n_neighbors=10)\n"
     ]
    }
   ],
   "source": [
    "from sklearn.model_selection import GridSearchCV\n",
    "\n",
    "best_estimators = {}\n",
    "\n",
    "for key, classifier in classifiers.items():\n",
    "    grid = GridSearchCV(classifier, params_classifiers[key])\n",
    "\n",
    "    grid.fit(X_train, y_train)\n",
    "    best_estimators[key] = grid.best_estimator_\n",
    "    print(grid.best_estimator_)"
   ]
  },
  {
   "cell_type": "markdown",
   "metadata": {},
   "source": [
    "  "
   ]
  },
  {
   "cell_type": "markdown",
   "metadata": {},
   "source": [
    "<br>\n",
    "<b> Prediction sur le final test </b>"
   ]
  },
  {
   "cell_type": "code",
   "execution_count": 29,
   "metadata": {},
   "outputs": [],
   "source": [
    "X_train = df_first_train.drop('SURVIVED', axis=1)\n",
    "y_train = df_first_train['SURVIVED']\n",
    "\n",
    "\n",
    "X_final_test = df_final_test.drop('SURVIVED', axis=1)\n",
    "\n",
    "y_final_test = df_final_test['SURVIVED']"
   ]
  },
  {
   "cell_type": "code",
   "execution_count": 30,
   "metadata": {},
   "outputs": [
    {
     "name": "stdout",
     "output_type": "stream",
     "text": [
      "prec score: 0.7706422018348624\n",
      "recall score: 0.5283018867924528\n",
      "f1 score: 0.626865671641791\n"
     ]
    },
    {
     "data": {
      "image/png": "[encoded data removed]",
      "text/plain": [
       "<Figure size 576x396 with 2 Axes>"
      ]
     },
     "metadata": {},
     "output_type": "display_data"
    }
   ],
   "source": [
    "log = best_estimators['LogisticRegression']\n",
    "log.fit(X_train,y_train)\n",
    "y_predict = log.predict(X_final_test)\n",
    "\n",
    "precision = precision_score(y_final_test, y_predict)\n",
    "recall = recall_score(y_final_test, y_predict)\n",
    "f1 = f1_score(y_final_test, y_predict)\n",
    "matrix = confusion_matrix(y_final_test, y_predict)\n",
    "print('prec score:', precision)\n",
    "print('recall score:', recall)\n",
    "print('f1 score:', f1)\n",
    "        \n",
    "sns.heatmap(matrix,annot=True,fmt='2.0f')\n",
    "plt.show()"
   ]
  },
  {
   "cell_type": "code",
   "execution_count": 31,
   "metadata": {},
   "outputs": [
    {
     "data": {
      "text/plain": [
       "[Text(205.57894736842104, 269.082, 'X[0] <= 2.5\\ngini = 0.431\\nsamples = 1760\\nvalue = [1208, 552]'),\n",
       " Text(70.48421052631579, 209.286, 'X[1] <= 0.5\\ngini = 0.499\\nsamples = 474\\nvalue = [226, 248]'),\n",
       " Text(46.98947368421052, 149.49, 'gini = 0.0\\nsamples = 25\\nvalue = [0, 25]'),\n",
       " Text(93.97894736842105, 149.49, 'X[0] <= 1.5\\ngini = 0.5\\nsamples = 449\\nvalue = [226, 223]'),\n",
       " Text(46.98947368421052, 89.69399999999999, 'X[2] <= 0.5\\ngini = 0.476\\nsamples = 246\\nvalue = [96, 150]'),\n",
       " Text(23.49473684210526, 29.897999999999968, 'gini = 0.452\\nsamples = 142\\nvalue = [93, 49]'),\n",
       " Text(70.48421052631579, 29.897999999999968, 'gini = 0.056\\nsamples = 104\\nvalue = [3, 101]'),\n",
       " Text(140.96842105263158, 89.69399999999999, 'X[2] <= 0.5\\ngini = 0.461\\nsamples = 203\\nvalue = [130, 73]'),\n",
       " Text(117.4736842105263, 29.897999999999968, 'gini = 0.176\\nsamples = 133\\nvalue = [120, 13]'),\n",
       " Text(164.46315789473684, 29.897999999999968, 'gini = 0.245\\nsamples = 70\\nvalue = [10, 60]'),\n",
       " Text(340.6736842105263, 209.286, 'X[0] <= 3.5\\ngini = 0.361\\nsamples = 1286\\nvalue = [982, 304]'),\n",
       " Text(281.93684210526317, 149.49, 'X[2] <= 0.5\\ngini = 0.368\\nsamples = 585\\nvalue = [443, 142]'),\n",
       " Text(234.9473684210526, 89.69399999999999, 'X[1] <= 0.5\\ngini = 0.277\\nsamples = 428\\nvalue = [357, 71]'),\n",
       " Text(211.45263157894735, 29.897999999999968, 'gini = 0.405\\nsamples = 46\\nvalue = [33, 13]'),\n",
       " Text(258.4421052631579, 29.897999999999968, 'gini = 0.258\\nsamples = 382\\nvalue = [324, 58]'),\n",
       " Text(328.9263157894737, 89.69399999999999, 'X[1] <= 0.5\\ngini = 0.495\\nsamples = 157\\nvalue = [86, 71]'),\n",
       " Text(305.4315789473684, 29.897999999999968, 'gini = 0.499\\nsamples = 27\\nvalue = [14, 13]'),\n",
       " Text(352.4210526315789, 29.897999999999968, 'gini = 0.494\\nsamples = 130\\nvalue = [72, 58]'),\n",
       " Text(399.41052631578947, 149.49, 'X[2] <= 0.5\\ngini = 0.355\\nsamples = 701\\nvalue = [539, 162]'),\n",
       " Text(375.9157894736842, 89.69399999999999, 'gini = 0.336\\nsamples = 683\\nvalue = [537, 146]'),\n",
       " Text(422.9052631578947, 89.69399999999999, 'gini = 0.198\\nsamples = 18\\nvalue = [2, 16]')]"
      ]
     },
     "execution_count": 31,
     "metadata": {},
     "output_type": "execute_result"
    },
    {
     "data": {
      "image/png": "[encoded data removed]",
      "text/plain": [
       "<Figure size 576x396 with 1 Axes>"
      ]
     },
     "metadata": {},
     "output_type": "display_data"
    }
   ],
   "source": [
    "from sklearn import tree\n",
    "dtc = best_estimators['DecisionTreeClassifier']\n",
    "dtc.fit(X_train,y_train)\n",
    "tree.plot_tree(dtc)"
   ]
  },
  {
   "cell_type": "code",
   "execution_count": 32,
   "metadata": {},
   "outputs": [
    {
     "name": "stdout",
     "output_type": "stream",
     "text": [
      "prec score: 0.9315068493150684\n",
      "recall score: 0.4276729559748428\n",
      "f1 score: 0.5862068965517241\n"
     ]
    },
    {
     "data": {
      "image/png": "[encoded data removed]",
      "text/plain": [
       "<Figure size 576x396 with 2 Axes>"
      ]
     },
     "metadata": {},
     "output_type": "display_data"
    }
   ],
   "source": [
    "y_predict = dtc.predict(X_final_test)\n",
    "\n",
    "precision = precision_score(y_final_test, y_predict)\n",
    "recall = recall_score(y_final_test, y_predict)\n",
    "f1 = f1_score(y_final_test, y_predict)\n",
    "matrix = confusion_matrix(y_final_test, y_predict)\n",
    "print('prec score:', precision)\n",
    "print('recall score:', recall)\n",
    "print('f1 score:', f1)\n",
    "\n",
    "sns.heatmap(matrix,annot=True,fmt='2.0f')\n",
    "plt.show()"
   ]
  },
  {
   "cell_type": "code",
   "execution_count": 33,
   "metadata": {},
   "outputs": [
    {
     "name": "stdout",
     "output_type": "stream",
     "text": [
      "prec score: 0.8961038961038961\n",
      "recall score: 0.4339622641509434\n",
      "f1 score: 0.5847457627118644\n"
     ]
    },
    {
     "data": {
      "image/png": "[encoded data removed]",
      "text/plain": [
       "<Figure size 576x396 with 2 Axes>"
      ]
     },
     "metadata": {},
     "output_type": "display_data"
    }
   ],
   "source": [
    "knn = best_estimators['KNearest']\n",
    "knn.fit(X_train,y_train)\n",
    "y_predict = knn.predict(X_final_test)\n",
    "\n",
    "precision = precision_score(y_final_test, y_predict)\n",
    "recall = recall_score(y_final_test, y_predict)\n",
    "f1 = f1_score(y_final_test, y_predict)\n",
    "matrix = confusion_matrix(y_final_test, y_predict)\n",
    "print('prec score:', precision)\n",
    "print('recall score:', recall)\n",
    "print('f1 score:', f1)\n",
    "        \n",
    "sns.heatmap(matrix,annot=True,fmt='2.0f')\n",
    "plt.show()"
   ]
  },
  {
   "cell_type": "markdown",
   "metadata": {},
   "source": [
    "Finalement:\n",
    "- Les classifiers <b>Knearest et DecisionTreeClassifier</b> obtiennent relativement les mêmes résultats sur le final test.\n",
    "- Cependant, le <b>DecisionTreeClassifier</b> avait une meilleure précision lors de la cross validation."
   ]
  },
  {
   "cell_type": "code",
   "execution_count": null,
   "metadata": {},
   "outputs": [],
   "source": []
  }
 ],
 "metadata": {
  "kernelspec": {
   "display_name": "Python 3",
   "language": "python",
   "name": "python3"
  },
  "language_info": {
   "codemirror_mode": {
    "name": "ipython",
    "version": 3
   },
   "file_extension": ".py",
   "mimetype": "text/x-python",
   "name": "python",
   "nbconvert_exporter": "python",
   "pygments_lexer": "ipython3",
   "version": "3.6.8"
  }
 },
 "nbformat": 4,
 "nbformat_minor": 4
}
